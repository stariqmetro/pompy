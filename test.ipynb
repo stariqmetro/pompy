{
 "cells": [
  {
   "cell_type": "code",
   "execution_count": 6,
   "metadata": {},
   "outputs": [],
   "source": [
    "import pandas as pd\n",
    "import numpy as np\n",
    "\n",
    "import os, glob"
   ]
  },
  {
   "cell_type": "code",
   "execution_count": 1,
   "metadata": {},
   "outputs": [],
   "source": [
    "TICKETS_PATH = \"C:/OneDrive - Metropolitan Warehouse/Vendor Control/Data Files/KPI Reports - 2/POMS in KPI Reports/\"\n",
    "OTHER_TICKETS = \"C:/OneDrive - Metropolitan Warehouse/Vendor Control/Data Files/KPI Reports - 2/linehaul_poms/\""
   ]
  },
  {
   "cell_type": "code",
   "execution_count": 32,
   "metadata": {},
   "outputs": [],
   "source": [
    "KPI_PATH = \"C:/OneDrive - Metropolitan Warehouse/Vendor Control/Data Files/KPI Reports - 2/POMS in KPI Reports/\"\n",
    "OTHER_TICKETS = \"C:/OneDrive - Metropolitan Warehouse/Vendor Control/Data Files/KPI Reports - 2/linehaul_poms/\"\n",
    "\n",
    "kpi_files = glob.glob(os.path.join(OTHER_TICKETS, \"*.csv\"))# glob.glob(os.path.join(KPI_PATH, \"*.csv\")) #\n",
    "df_kpi = pd.concat((pd.read_csv(f, encoding='ISO-8859-1', engine='c', dtype={'Order #': str}, usecols=[\n",
    "    'Order #',\n",
    "    'Order Status',\n",
    "    'Actual Delivery Date',\n",
    "    'First Offered Date',\n",
    "    'Client Name',\n",
    "    'Amount',\n",
    "    'Approval Value']\n",
    "    ) for f in kpi_files), ignore_index=True).round(2)\n",
    "df_kpi_g = df_kpi.groupby('Order #').agg({\n",
    "    'Order Status': 'first',\n",
    "    'Actual Delivery Date': 'first',\n",
    "    'First Offered Date': 'first',\n",
    "    'Client Name': 'first',\n",
    "    'Amount': 'sum',\n",
    "    'Approval Value': 'last'}\n",
    "    )"
   ]
  },
  {
   "cell_type": "code",
   "execution_count": 33,
   "metadata": {},
   "outputs": [],
   "source": [
    "orders = df_kpi.loc[(df_kpi['Amount'] == 0) & (df_kpi['Approval Value'] != \"Invoice Finalized\"), [\"Order #\", \"Approval Value\"]]"
   ]
  },
  {
   "cell_type": "code",
   "execution_count": 34,
   "metadata": {},
   "outputs": [
    {
     "data": {
      "text/plain": [
       "Order #           0\n",
       "Approval Value    0\n",
       "dtype: int64"
      ]
     },
     "execution_count": 34,
     "metadata": {},
     "output_type": "execute_result"
    }
   ],
   "source": [
    "orders.count()"
   ]
  },
  {
   "cell_type": "code",
   "execution_count": 31,
   "metadata": {},
   "outputs": [],
   "source": [
    "orders.to_csv(\"../Product/MissingOrdersAmount.csv\")"
   ]
  },
  {
   "cell_type": "code",
   "execution_count": 5,
   "metadata": {},
   "outputs": [],
   "source": [
    "import pandas as pd\n",
    "\n",
    "df_kpi = pd.concat((pd.read_csv(f, encoding='ISO-8859-1', engine='c', dtype={'Order #': object},\n",
    "                                usecols=['Order #', 'Actual Delivery Date', 'Client Name', 'Amount']\n",
    "                                ) for f in kpi_files), ignore_index=True).drop_duplicates().round(2)"
   ]
  },
  {
   "cell_type": "code",
   "execution_count": 7,
   "metadata": {},
   "outputs": [
    {
     "data": {
      "text/html": [
       "<div>\n",
       "<style scoped>\n",
       "    .dataframe tbody tr th:only-of-type {\n",
       "        vertical-align: middle;\n",
       "    }\n",
       "\n",
       "    .dataframe tbody tr th {\n",
       "        vertical-align: top;\n",
       "    }\n",
       "\n",
       "    .dataframe thead th {\n",
       "        text-align: right;\n",
       "    }\n",
       "</style>\n",
       "<table border=\"1\" class=\"dataframe\">\n",
       "  <thead>\n",
       "    <tr style=\"text-align: right;\">\n",
       "      <th></th>\n",
       "      <th>Order #</th>\n",
       "      <th>Client Name</th>\n",
       "      <th>Actual Delivery Date</th>\n",
       "      <th>Amount</th>\n",
       "    </tr>\n",
       "  </thead>\n",
       "  <tbody>\n",
       "    <tr>\n",
       "      <th>2024660</th>\n",
       "      <td>3216162</td>\n",
       "      <td>Spot International Inc</td>\n",
       "      <td>44978.33</td>\n",
       "      <td>0.0</td>\n",
       "    </tr>\n",
       "  </tbody>\n",
       "</table>\n",
       "</div>"
      ],
      "text/plain": [
       "         Order #             Client Name  Actual Delivery Date  Amount\n",
       "2024660  3216162  Spot International Inc              44978.33     0.0"
      ]
     },
     "execution_count": 7,
     "metadata": {},
     "output_type": "execute_result"
    }
   ],
   "source": [
    "df_kpi[df_kpi['Order #'] == \"3216162\"]"
   ]
  },
  {
   "cell_type": "code",
   "execution_count": 23,
   "metadata": {},
   "outputs": [],
   "source": [
    "REPORT_PATH = \"//filesrv/MercuryGate/\"\n",
    "PARQUET_PATH = \"//filesrv/MercuryGate/Separated/Backup.parquet\"\n",
    "ORDERS_PATH = \"C:/OneDrive - Metropolitan Warehouse/Vendor Control/Data Files/POM Level/Pull Sheet Data LH Team/\"\n",
    "TICKETS_PATH = \"C:/OneDrive - Metropolitan Warehouse/Vendor Control/Data Files/POM Level/Closing Tickets/\"\n",
    "OUTPUT_PATH = \"C:/OneDrive - Metropolitan Warehouse/Vendor Control/Data Files/POM Level/TMSProduct/\"\n",
    "AUTO_PULL_PATH = \"C:/OneDrive - Metropolitan Warehouse/Vendor Control/Data Files/POM Level/pompy/get_missing_pull_sheets.py\"\n",
    "AUTO_TICKETS_PATH = \"C:/OneDrive - Metropolitan Warehouse/Vendor Control/Data Files/POM Level/pompy/get_missing_closing_tickets.py\"\n",
    "AUTO_DIST_PATH = \"C:/OneDrive - Metropolitan Warehouse/Vendor Control/Data Files/POM Level/pompy/get_missing_dist.py\""
   ]
  },
  {
   "cell_type": "code",
   "execution_count": 6,
   "metadata": {},
   "outputs": [
    {
     "name": "stdout",
     "output_type": "stream",
     "text": [
      "True\n",
      "False\n"
     ]
    },
    {
     "data": {
      "text/plain": [
       "0    None\n",
       "1    None\n",
       "Name: A, dtype: object"
      ]
     },
     "execution_count": 6,
     "metadata": {},
     "output_type": "execute_result"
    }
   ],
   "source": [
    "df = pd.DataFrame({'A': [np.nan, 'X-Y']})\n",
    "def convert(lane):\n",
    "    stops = str(lane).split(\"-\")\n",
    "    print(stops[0] == 'nan')\n",
    "\n",
    "df['A'].apply(convert)"
   ]
  },
  {
   "cell_type": "code",
   "execution_count": 5,
   "metadata": {},
   "outputs": [],
   "source": [
    "df = pd.Series([np.nan, 0, 10])\n",
    "dx = np.where(df <= 0,\n",
    "              3 / 1,\n",
    "              3 / df)"
   ]
  },
  {
   "cell_type": "code",
   "execution_count": 52,
   "metadata": {},
   "outputs": [],
   "source": [
    "data = {\n",
    "    'I': ['X', 'X', 'X', 'Y', np.nan],\n",
    "    'P': ['LD1', 'LD1', 'LD2', 'LD1', 'LD3'],\n",
    "    'C': [100, 100, 100, 70, 0],\n",
    "    'TLH': [80, 80, 80, 55, 0],\n",
    "    'TFS': [20, 20, 20, 15, 0],\n",
    "    'CT': [125, 125, 125, 65, 30]\n",
    "}\n",
    "df = pd.DataFrame(data)"
   ]
  },
  {
   "cell_type": "code",
   "execution_count": 54,
   "metadata": {},
   "outputs": [],
   "source": [
    "df['I'] = df['I'].fillna('')"
   ]
  },
  {
   "cell_type": "code",
   "execution_count": 56,
   "metadata": {},
   "outputs": [],
   "source": [
    "nu_lo_ag_inv = df.groupby('I')['P'].transform('nunique')\n",
    "df['C'] = df['C'] / nu_lo_ag_inv\n",
    "df['TLH'] = df['TLH'] / nu_lo_ag_inv\n",
    "df['TFS'] = df['TFS'] / nu_lo_ag_inv"
   ]
  },
  {
   "cell_type": "code",
   "execution_count": 64,
   "metadata": {},
   "outputs": [
    {
     "data": {
      "text/html": [
       "<div>\n",
       "<style scoped>\n",
       "    .dataframe tbody tr th:only-of-type {\n",
       "        vertical-align: middle;\n",
       "    }\n",
       "\n",
       "    .dataframe tbody tr th {\n",
       "        vertical-align: top;\n",
       "    }\n",
       "\n",
       "    .dataframe thead th {\n",
       "        text-align: right;\n",
       "    }\n",
       "</style>\n",
       "<table border=\"1\" class=\"dataframe\">\n",
       "  <thead>\n",
       "    <tr style=\"text-align: right;\">\n",
       "      <th></th>\n",
       "      <th>I</th>\n",
       "      <th>P</th>\n",
       "      <th>CT</th>\n",
       "      <th>C</th>\n",
       "      <th>TLH</th>\n",
       "      <th>TFS</th>\n",
       "    </tr>\n",
       "  </thead>\n",
       "  <tbody>\n",
       "    <tr>\n",
       "      <th>0</th>\n",
       "      <td>Y;X</td>\n",
       "      <td>LD1</td>\n",
       "      <td>120.0</td>\n",
       "      <td>120.0</td>\n",
       "      <td>95.0</td>\n",
       "      <td>25.0</td>\n",
       "    </tr>\n",
       "    <tr>\n",
       "      <th>3</th>\n",
       "      <td>X</td>\n",
       "      <td>LD2</td>\n",
       "      <td>50.0</td>\n",
       "      <td>50.0</td>\n",
       "      <td>40.0</td>\n",
       "      <td>10.0</td>\n",
       "    </tr>\n",
       "    <tr>\n",
       "      <th>4</th>\n",
       "      <td></td>\n",
       "      <td>LD3</td>\n",
       "      <td>30.0</td>\n",
       "      <td>NaN</td>\n",
       "      <td>0.0</td>\n",
       "      <td>0.0</td>\n",
       "    </tr>\n",
       "  </tbody>\n",
       "</table>\n",
       "</div>"
      ],
      "text/plain": [
       "     I    P     CT      C   TLH   TFS\n",
       "0  Y;X  LD1  120.0  120.0  95.0  25.0\n",
       "3    X  LD2   50.0   50.0  40.0  10.0\n",
       "4       LD3   30.0    NaN   0.0   0.0"
      ]
     },
     "execution_count": 64,
     "metadata": {},
     "output_type": "execute_result"
    }
   ],
   "source": [
    "df"
   ]
  },
  {
   "cell_type": "code",
   "execution_count": 57,
   "metadata": {},
   "outputs": [],
   "source": [
    "df_gb = df.groupby([\n",
    "    'P',\n",
    "    'I'])[[\n",
    "        'C',\n",
    "        'TLH',\n",
    "        'TFS']].max().groupby(level='P').sum()"
   ]
  },
  {
   "cell_type": "code",
   "execution_count": 58,
   "metadata": {},
   "outputs": [],
   "source": [
    "df = df.drop(columns=['C',\n",
    "                      'TLH',\n",
    "                      'TFS'])\n",
    "df = df.merge(df_gb, on='P')"
   ]
  },
  {
   "cell_type": "code",
   "execution_count": 60,
   "metadata": {},
   "outputs": [],
   "source": [
    "df['I'] = df.groupby('P')['I'].transform(lambda x: \";\".join(set(x)))"
   ]
  },
  {
   "cell_type": "code",
   "execution_count": 61,
   "metadata": {},
   "outputs": [],
   "source": [
    "df.drop_duplicates(subset=['P'], inplace=True)"
   ]
  },
  {
   "cell_type": "code",
   "execution_count": 62,
   "metadata": {},
   "outputs": [],
   "source": [
    "df['C'] = df['C'].replace(to_replace=0, value=np.nan)"
   ]
  },
  {
   "cell_type": "code",
   "execution_count": 63,
   "metadata": {},
   "outputs": [],
   "source": [
    "df['CT'] = df['C'].fillna(df['CT'])"
   ]
  },
  {
   "cell_type": "code",
   "execution_count": 2,
   "metadata": {},
   "outputs": [],
   "source": [
    "df = pd.read_parquet(r\"\\\\filesrv\\MercuryGate\\Separated\\Backup.parquet\")"
   ]
  },
  {
   "cell_type": "code",
   "execution_count": 3,
   "metadata": {},
   "outputs": [
    {
     "data": {
      "text/plain": [
       "Index(['Primary Reference', 'Pinnacle Manifest No', 'Target Ship (Late)',\n",
       "       'Target Delivery (Late)', 'Actual Delivery', 'Origin Code',\n",
       "       'Origin Zip', 'Dest Code', 'Dest Zip', 'Carrier', 'Carrier Total',\n",
       "       'Invoice Charge', 'Invoice Date', 'Invoice Number',\n",
       "       'Invoice Total Fuel', 'Invoice Total Line Haul'],\n",
       "      dtype='object')"
      ]
     },
     "execution_count": 3,
     "metadata": {},
     "output_type": "execute_result"
    }
   ],
   "source": [
    "df.columns"
   ]
  },
  {
   "cell_type": "code",
   "execution_count": 6,
   "metadata": {},
   "outputs": [],
   "source": [
    "df[\"Target Ship (Late)\"] = pd.to_datetime(df[\"Target Ship (Late)\"])\n",
    "df[\"Target Delivery (Late)\"] = pd.to_datetime(df[\"Target Delivery (Late)\"])\n",
    "df[\"Invoice Date\"] = pd.to_datetime(df[\"Invoice Date\"])"
   ]
  },
  {
   "cell_type": "code",
   "execution_count": 7,
   "metadata": {},
   "outputs": [],
   "source": [
    "cutoff_date = '2023-02-01'\n",
    "selected_refs = df.groupby('Primary Reference').filter(lambda x: (x['Target Ship (Late)'] >= cutoff_date).all())['Primary Reference'].unique()\n",
    "df = df[df['Primary Reference'].isin(selected_refs)]\n",
    "df['Invoice Number'] = df['Invoice Number'].fillna('')"
   ]
  },
  {
   "cell_type": "code",
   "execution_count": 7,
   "metadata": {},
   "outputs": [
    {
     "data": {
      "text/html": [
       "<div>\n",
       "<style scoped>\n",
       "    .dataframe tbody tr th:only-of-type {\n",
       "        vertical-align: middle;\n",
       "    }\n",
       "\n",
       "    .dataframe tbody tr th {\n",
       "        vertical-align: top;\n",
       "    }\n",
       "\n",
       "    .dataframe thead th {\n",
       "        text-align: right;\n",
       "    }\n",
       "</style>\n",
       "<table border=\"1\" class=\"dataframe\">\n",
       "  <thead>\n",
       "    <tr style=\"text-align: right;\">\n",
       "      <th></th>\n",
       "      <th>Create Date</th>\n",
       "      <th>Primary Reference</th>\n",
       "      <th>Pinnacle Manifest No</th>\n",
       "      <th>Status</th>\n",
       "      <th>Carrier</th>\n",
       "      <th>Carrier Total</th>\n",
       "      <th>Invoice Charge</th>\n",
       "      <th>Invoice Date</th>\n",
       "      <th>Invoice Number</th>\n",
       "      <th>Invoice Total Line Haul</th>\n",
       "      <th>...</th>\n",
       "      <th>Dest Zip</th>\n",
       "      <th>Target Delivery (Early)</th>\n",
       "      <th>Target Delivery (Late)</th>\n",
       "      <th>Actual Delivery</th>\n",
       "      <th>Departure Date</th>\n",
       "      <th>Cube</th>\n",
       "      <th>Weight</th>\n",
       "      <th>Quantity</th>\n",
       "      <th>Shipment Count</th>\n",
       "      <th>OID</th>\n",
       "    </tr>\n",
       "  </thead>\n",
       "  <tbody>\n",
       "    <tr>\n",
       "      <th>15296</th>\n",
       "      <td>2023-02-08 14:52</td>\n",
       "      <td>LD24043 (Load ID)</td>\n",
       "      <td>nan</td>\n",
       "      <td>Delivered</td>\n",
       "      <td>X-FACTOR TRANSPORT INC</td>\n",
       "      <td>2750.0</td>\n",
       "      <td>0.0</td>\n",
       "      <td>2023-02-08</td>\n",
       "      <td>10664</td>\n",
       "      <td>0.0</td>\n",
       "      <td>...</td>\n",
       "      <td>2780</td>\n",
       "      <td>2023-02-02 05:00</td>\n",
       "      <td>2023-02-02 10:00:00</td>\n",
       "      <td>2023-02-02 09:30</td>\n",
       "      <td>2023-02-01 15:00</td>\n",
       "      <td>2639.2</td>\n",
       "      <td>13216.27</td>\n",
       "      <td>137.0</td>\n",
       "      <td>1.0</td>\n",
       "      <td>17603561821.0</td>\n",
       "    </tr>\n",
       "    <tr>\n",
       "      <th>15297</th>\n",
       "      <td>2023-02-08 14:52</td>\n",
       "      <td>LD24043 (Load ID)</td>\n",
       "      <td>nan</td>\n",
       "      <td>Delivered</td>\n",
       "      <td>X-FACTOR TRANSPORT INC</td>\n",
       "      <td>2750.0</td>\n",
       "      <td>0.0</td>\n",
       "      <td>2023-02-08</td>\n",
       "      <td>10664</td>\n",
       "      <td>0.0</td>\n",
       "      <td>...</td>\n",
       "      <td>2780</td>\n",
       "      <td>2023-02-02 05:00</td>\n",
       "      <td>2023-02-02 10:00:00</td>\n",
       "      <td>2023-02-02 09:30</td>\n",
       "      <td>2023-02-02 09:30</td>\n",
       "      <td>2639.2</td>\n",
       "      <td>13216.27</td>\n",
       "      <td>137.0</td>\n",
       "      <td>1.0</td>\n",
       "      <td>17603561821.0</td>\n",
       "    </tr>\n",
       "    <tr>\n",
       "      <th>16089</th>\n",
       "      <td>2023-02-08 15:19</td>\n",
       "      <td>LD24016 (Load ID)</td>\n",
       "      <td>nan</td>\n",
       "      <td>Delivered</td>\n",
       "      <td>The World Delivered Inc.</td>\n",
       "      <td>1450.0</td>\n",
       "      <td>1450.0</td>\n",
       "      <td>2023-02-03</td>\n",
       "      <td>14353-50295</td>\n",
       "      <td>1450.0</td>\n",
       "      <td>...</td>\n",
       "      <td>27263</td>\n",
       "      <td>2023-02-02 05:00</td>\n",
       "      <td>2023-02-02 07:00:00</td>\n",
       "      <td>2023-02-02 08:00</td>\n",
       "      <td>2023-02-01 09:00</td>\n",
       "      <td>1.0</td>\n",
       "      <td>1.0</td>\n",
       "      <td>1.0</td>\n",
       "      <td>1.0</td>\n",
       "      <td>17603600688.0</td>\n",
       "    </tr>\n",
       "    <tr>\n",
       "      <th>16090</th>\n",
       "      <td>2023-02-08 15:19</td>\n",
       "      <td>LD24016 (Load ID)</td>\n",
       "      <td>nan</td>\n",
       "      <td>Delivered</td>\n",
       "      <td>The World Delivered Inc.</td>\n",
       "      <td>1450.0</td>\n",
       "      <td>1450.0</td>\n",
       "      <td>2023-02-03</td>\n",
       "      <td>14353-50295</td>\n",
       "      <td>1450.0</td>\n",
       "      <td>...</td>\n",
       "      <td>27263</td>\n",
       "      <td>2023-02-02 05:00</td>\n",
       "      <td>2023-02-02 07:00:00</td>\n",
       "      <td>2023-02-02 08:00</td>\n",
       "      <td>2023-02-02 08:00</td>\n",
       "      <td>1.0</td>\n",
       "      <td>1.0</td>\n",
       "      <td>1.0</td>\n",
       "      <td>1.0</td>\n",
       "      <td>17603600688.0</td>\n",
       "    </tr>\n",
       "    <tr>\n",
       "      <th>16091</th>\n",
       "      <td>2023-02-08 15:19</td>\n",
       "      <td>LD24017 (Load ID)</td>\n",
       "      <td>99499</td>\n",
       "      <td>Delivered</td>\n",
       "      <td>The World Delivered Inc.</td>\n",
       "      <td>2125.0</td>\n",
       "      <td>2125.0</td>\n",
       "      <td>2023-02-06</td>\n",
       "      <td>14353-50298</td>\n",
       "      <td>2125.0</td>\n",
       "      <td>...</td>\n",
       "      <td>77385</td>\n",
       "      <td>2023-02-03 09:00</td>\n",
       "      <td>2023-02-03 11:00:00</td>\n",
       "      <td>2023-02-03 09:30</td>\n",
       "      <td>2023-02-01 12:50</td>\n",
       "      <td>800.0</td>\n",
       "      <td>1570.0</td>\n",
       "      <td>1.0</td>\n",
       "      <td>1.0</td>\n",
       "      <td>17603600780.0</td>\n",
       "    </tr>\n",
       "  </tbody>\n",
       "</table>\n",
       "<p>5 rows × 34 columns</p>\n",
       "</div>"
      ],
      "text/plain": [
       "            Create Date  Primary Reference Pinnacle Manifest No     Status  \\\n",
       "15296  2023-02-08 14:52  LD24043 (Load ID)                  nan  Delivered   \n",
       "15297  2023-02-08 14:52  LD24043 (Load ID)                  nan  Delivered   \n",
       "16089  2023-02-08 15:19  LD24016 (Load ID)                  nan  Delivered   \n",
       "16090  2023-02-08 15:19  LD24016 (Load ID)                  nan  Delivered   \n",
       "16091  2023-02-08 15:19  LD24017 (Load ID)                99499  Delivered   \n",
       "\n",
       "                        Carrier Carrier Total Invoice Charge Invoice Date  \\\n",
       "15296    X-FACTOR TRANSPORT INC        2750.0            0.0   2023-02-08   \n",
       "15297    X-FACTOR TRANSPORT INC        2750.0            0.0   2023-02-08   \n",
       "16089  The World Delivered Inc.        1450.0         1450.0   2023-02-03   \n",
       "16090  The World Delivered Inc.        1450.0         1450.0   2023-02-03   \n",
       "16091  The World Delivered Inc.        2125.0         2125.0   2023-02-06   \n",
       "\n",
       "      Invoice Number Invoice Total Line Haul  ... Dest Zip  \\\n",
       "15296          10664                     0.0  ...     2780   \n",
       "15297          10664                     0.0  ...     2780   \n",
       "16089    14353-50295                  1450.0  ...    27263   \n",
       "16090    14353-50295                  1450.0  ...    27263   \n",
       "16091    14353-50298                  2125.0  ...    77385   \n",
       "\n",
       "      Target Delivery (Early) Target Delivery (Late)   Actual Delivery  \\\n",
       "15296        2023-02-02 05:00    2023-02-02 10:00:00  2023-02-02 09:30   \n",
       "15297        2023-02-02 05:00    2023-02-02 10:00:00  2023-02-02 09:30   \n",
       "16089        2023-02-02 05:00    2023-02-02 07:00:00  2023-02-02 08:00   \n",
       "16090        2023-02-02 05:00    2023-02-02 07:00:00  2023-02-02 08:00   \n",
       "16091        2023-02-03 09:00    2023-02-03 11:00:00  2023-02-03 09:30   \n",
       "\n",
       "         Departure Date    Cube    Weight Quantity Shipment Count  \\\n",
       "15296  2023-02-01 15:00  2639.2  13216.27    137.0            1.0   \n",
       "15297  2023-02-02 09:30  2639.2  13216.27    137.0            1.0   \n",
       "16089  2023-02-01 09:00     1.0       1.0      1.0            1.0   \n",
       "16090  2023-02-02 08:00     1.0       1.0      1.0            1.0   \n",
       "16091  2023-02-01 12:50   800.0    1570.0      1.0            1.0   \n",
       "\n",
       "                 OID  \n",
       "15296  17603561821.0  \n",
       "15297  17603561821.0  \n",
       "16089  17603600688.0  \n",
       "16090  17603600688.0  \n",
       "16091  17603600780.0  \n",
       "\n",
       "[5 rows x 34 columns]"
      ]
     },
     "execution_count": 7,
     "metadata": {},
     "output_type": "execute_result"
    }
   ],
   "source": [
    "df.head()"
   ]
  },
  {
   "cell_type": "code",
   "execution_count": 5,
   "metadata": {},
   "outputs": [
    {
     "data": {
      "text/plain": [
       "'2023-04-14 08:00'"
      ]
     },
     "execution_count": 5,
     "metadata": {},
     "output_type": "execute_result"
    }
   ],
   "source": [
    "df[df['Primary Reference']==\"LD27922 (Load ID)\"]['Target Ship (Late)'].min()"
   ]
  },
  {
   "cell_type": "code",
   "execution_count": 2,
   "metadata": {},
   "outputs": [],
   "source": [
    "df2 = pd.read_csv(\"../TMSProduct/Product.csv\", low_memory=False)"
   ]
  },
  {
   "cell_type": "code",
   "execution_count": 3,
   "metadata": {},
   "outputs": [
    {
     "data": {
      "text/html": [
       "<div>\n",
       "<style scoped>\n",
       "    .dataframe tbody tr th:only-of-type {\n",
       "        vertical-align: middle;\n",
       "    }\n",
       "\n",
       "    .dataframe tbody tr th {\n",
       "        vertical-align: top;\n",
       "    }\n",
       "\n",
       "    .dataframe thead th {\n",
       "        text-align: right;\n",
       "    }\n",
       "</style>\n",
       "<table border=\"1\" class=\"dataframe\">\n",
       "  <thead>\n",
       "    <tr style=\"text-align: right;\">\n",
       "      <th></th>\n",
       "      <th>manifest_num</th>\n",
       "      <th>Carrier Total</th>\n",
       "      <th>Carrier</th>\n",
       "      <th>lane</th>\n",
       "      <th>Primary Reference</th>\n",
       "      <th>Leg</th>\n",
       "      <th>Leg Zips</th>\n",
       "      <th>Actual Distance</th>\n",
       "      <th>Leg Instance per Load</th>\n",
       "      <th>Adjusted Distance</th>\n",
       "      <th>...</th>\n",
       "      <th>Actual Delivery</th>\n",
       "      <th>Invoice Date</th>\n",
       "      <th>Invoice Number</th>\n",
       "      <th>Invoice Charge</th>\n",
       "      <th>Invoice Total Line Haul</th>\n",
       "      <th>Invoice Total Fuel</th>\n",
       "      <th>from_to_zip</th>\n",
       "      <th>zips</th>\n",
       "      <th>size</th>\n",
       "      <th>Vendor Pickup?</th>\n",
       "    </tr>\n",
       "  </thead>\n",
       "  <tbody>\n",
       "  </tbody>\n",
       "</table>\n",
       "<p>0 rows × 44 columns</p>\n",
       "</div>"
      ],
      "text/plain": [
       "Empty DataFrame\n",
       "Columns: [manifest_num, Carrier Total, Carrier, lane, Primary Reference, Leg, Leg Zips, Actual Distance, Leg Instance per Load, Adjusted Distance, Load Total Distance, Legs per Load, Leg Cost, Target Delivery (Late), from_to, Order #, Order Cubes, Weight, Count, Order Delivery Date, Client Name, Amount, Origin Code, Dest Code, Origin Zip, Dest Zip, Manifest Cubes, Leg Cubes, Manifests Per Leg, Manifest Cost, Orders Per Manifest, POM Cost, Target Ship (Late), Arrival Date, Actual Delivery, Invoice Date, Invoice Number, Invoice Charge, Invoice Total Line Haul, Invoice Total Fuel, from_to_zip, zips, size, Vendor Pickup?]\n",
       "Index: []\n",
       "\n",
       "[0 rows x 44 columns]"
      ]
     },
     "execution_count": 3,
     "metadata": {},
     "output_type": "execute_result"
    }
   ],
   "source": [
    "df2[df2['Primary Reference']==\"LD27922 (Load ID)\"]"
   ]
  },
  {
   "cell_type": "code",
   "execution_count": 8,
   "metadata": {},
   "outputs": [],
   "source": [
    "cols = ['Primary Reference', 'Pinnacle Manifest No', 'Target Ship (Late)',\n",
    "        'Arrival Date', 'Target Delivery (Late)', 'Actual Delivery', 'Origin Code',\n",
    "        'Origin Zip', 'Dest Code', 'Dest Zip', 'Carrier', 'Carrier Total',\n",
    "        'Invoice Charge', 'Invoice Date', 'Invoice Number', 'Invoice Total Line Haul',\n",
    "        'Invoice Total Fuel']\n",
    "df = df[cols]"
   ]
  },
  {
   "cell_type": "code",
   "execution_count": 9,
   "metadata": {},
   "outputs": [],
   "source": [
    "#divide the invoices equally over their loads, no effect if only 1 load\n",
    "number_of_loads_against_invoice = df.groupby('Invoice Number')['Primary Reference'].transform('nunique')\n",
    "df['Invoice Charge'] = df['Invoice Charge'].astype(np.float64) / number_of_loads_against_invoice\n",
    "df['Invoice Total Line Haul'] = df['Invoice Total Line Haul'].astype(np.float64) / number_of_loads_against_invoice\n",
    "df['Invoice Total Fuel'] = df['Invoice Total Fuel'].astype(np.float64) / number_of_loads_against_invoice"
   ]
  },
  {
   "cell_type": "code",
   "execution_count": 10,
   "metadata": {},
   "outputs": [],
   "source": [
    "#aggregate costs against reference, summing against unique invoices\n",
    "df_gb = df.groupby([\n",
    "    'Primary Reference',\n",
    "    'Invoice Number'])[[\n",
    "        'Invoice Charge',\n",
    "        'Invoice Total Line Haul',\n",
    "        'Invoice Total Fuel']].max().groupby(level='Primary Reference').sum()\n",
    "df = df.drop(columns=['Invoice Charge',\n",
    "                      'Invoice Total Line Haul',\n",
    "                      'Invoice Total Fuel'])\n",
    "df = df.merge(df_gb, on='Primary Reference')"
   ]
  },
  {
   "cell_type": "code",
   "execution_count": 11,
   "metadata": {},
   "outputs": [],
   "source": [
    "#aggregate invoice number to create a list, and aggregate invoice date to get max\n",
    "df['Invoice Number'] = df.groupby('Primary Reference')['Invoice Number'].transform(lambda x: \";\".join(set(x)))\n",
    "df['Invoice Date'] = df.groupby('Primary Reference')['Invoice Date'].transform('max')"
   ]
  },
  {
   "cell_type": "code",
   "execution_count": 12,
   "metadata": {},
   "outputs": [],
   "source": [
    "#replace 0s with nans to fillna later\n",
    "df['Invoice Charge'] = df['Invoice Charge'].replace(to_replace=0, value=np.nan)"
   ]
  },
  {
   "cell_type": "code",
   "execution_count": 13,
   "metadata": {},
   "outputs": [],
   "source": [
    "#replace carrier total with invoice charge if invoice charge is not na\n",
    "df['Carrier Total'] = df['Invoice Charge'].fillna(df['Carrier Total'])"
   ]
  },
  {
   "cell_type": "code",
   "execution_count": 14,
   "metadata": {},
   "outputs": [],
   "source": [
    "df.drop_duplicates(subset=['Primary Reference', 'Pinnacle Manifest No', 'Origin Code',\n",
    "                           'Dest Code','Target Ship (Late)'], inplace=True, keep='last')"
   ]
  },
  {
   "cell_type": "code",
   "execution_count": 15,
   "metadata": {},
   "outputs": [],
   "source": [
    "df['Origin Code'].fillna(df['Origin Zip'], inplace=True)\n",
    "df['Dest Code'].fillna(df['Dest Zip'], inplace=True)"
   ]
  },
  {
   "cell_type": "code",
   "execution_count": 16,
   "metadata": {},
   "outputs": [],
   "source": [
    "df[\"from_to\"] = df[\"Origin Code\"].astype('str') + \" | \" + df[\"Dest Code\"].astype('str')\n",
    "df[\"from_to_zip\"] = df[\"Origin Zip\"].astype('str') + \";\" + df[\"Dest Zip\"].astype('str')\n",
    "df[\"Code;Zip\"] = df[\"Dest Code\"].astype('str') + \";\" + df[\"Dest Zip\"].astype('str')\n",
    "df[\"OriginCode;Zip\"] = df[\"Origin Code\"].astype('str') + \";\" + df[\"Origin Zip\"].astype('str')"
   ]
  },
  {
   "cell_type": "code",
   "execution_count": 17,
   "metadata": {},
   "outputs": [],
   "source": [
    "def create_lane(load):\n",
    "    rows = df.loc[df['Primary Reference']==load, [\"Target Ship (Late)\", \"Target Delivery (Late)\",\n",
    "                                                    \"OriginCode;Zip\", \"Code;Zip\"]]\n",
    "    targets = pd.concat([rows[\"Target Ship (Late)\"], rows[\"Target Delivery (Late)\"]])\n",
    "    code_zips = pd.concat([rows[\"OriginCode;Zip\"], rows[\"Code;Zip\"]])\n",
    "    rows = pd.DataFrame({\"Target\": targets, \"Code\": code_zips}).sort_values(by=\"Target\")\n",
    "    l = ['']; li = ['']\n",
    "    for x in rows[\"Code\"]:\n",
    "        if l[-1] != x.split(\";\")[0]:\n",
    "            l.append(x.split(\";\")[0])\n",
    "            li.append(x.split(\";\")[1])\n",
    "    l = l[1:]\n",
    "    li = li[1:]\n",
    "    lane = \" | \".join(l)\n",
    "    zips = \";\".join(li)\n",
    "    return lane, zips\n",
    "\n",
    "df['lane'], df['zips'] = zip(*df['Primary Reference'].apply(create_lane))"
   ]
  },
  {
   "cell_type": "code",
   "execution_count": 18,
   "metadata": {},
   "outputs": [],
   "source": [
    "def process_manifest(manifest):\n",
    "    manifest = str(manifest).strip().split(\", \")\n",
    "    size = []\n",
    "    is_vendor_pickup = []\n",
    "    for i, j in enumerate(manifest):\n",
    "        if \"VEN\" in j.upper() or \"PU\" in j.upper():\n",
    "            manifest[i] = 0\n",
    "            is_vendor_pickup.append(\"Yes\")\n",
    "            size.append('- 53FT')\n",
    "        else:\n",
    "            is_vendor_pickup.append(\"No\")\n",
    "            if 'ft' in j.lower():\n",
    "                manifest[i] = ''.join(filter(str.isdigit, j))[:7]\n",
    "                size.append(j)\n",
    "            else:\n",
    "                manifest[i] = ''.join(filter(str.isdigit, j))[:6]\n",
    "                size.append('- 53FT')\n",
    "    return manifest, size, is_vendor_pickup\n",
    "\n",
    "df['Pinnacle Manifest No'], df['size'], df['Vendor Pickup?'] = zip(*df['Pinnacle Manifest No'].apply(process_manifest))"
   ]
  },
  {
   "cell_type": "code",
   "execution_count": 19,
   "metadata": {},
   "outputs": [],
   "source": [
    "df = df.explode(['Pinnacle Manifest No', 'size', 'Vendor Pickup?'])"
   ]
  },
  {
   "cell_type": "code",
   "execution_count": 20,
   "metadata": {},
   "outputs": [],
   "source": [
    "df['Pinnacle Manifest No'] = pd.to_numeric(df['Pinnacle Manifest No'], errors='coerce'\n",
    "                                           ).fillna(0).astype(int)\n",
    "df = df.rename(columns={'Pinnacle Manifest No': 'manifest_num'})"
   ]
  },
  {
   "cell_type": "code",
   "execution_count": 21,
   "metadata": {},
   "outputs": [
    {
     "name": "stdout",
     "output_type": "stream",
     "text": [
      "(4617, 25)\n"
     ]
    }
   ],
   "source": [
    "print(df.shape)"
   ]
  },
  {
   "cell_type": "code",
   "execution_count": 24,
   "metadata": {},
   "outputs": [
    {
     "ename": "KeyboardInterrupt",
     "evalue": "",
     "output_type": "error",
     "traceback": [
      "\u001b[1;31m---------------------------------------------------------------------------\u001b[0m",
      "\u001b[1;31mKeyboardInterrupt\u001b[0m                         Traceback (most recent call last)",
      "Cell \u001b[1;32mIn[24], line 15\u001b[0m\n\u001b[0;32m     10\u001b[0m \u001b[39m# %% [markdown]\u001b[39;00m\n\u001b[0;32m     11\u001b[0m \u001b[39m# Run the auto pulling scripts to get the Pull Sheet Data and the Closing Tickets.\u001b[39;00m\n\u001b[0;32m     12\u001b[0m \n\u001b[0;32m     13\u001b[0m \u001b[39m# %%\u001b[39;00m\n\u001b[0;32m     14\u001b[0m subprocess\u001b[39m.\u001b[39mrun([\u001b[39m\"\u001b[39m\u001b[39mpython\u001b[39m\u001b[39m\"\u001b[39m, AUTO_PULL_PATH, OUTPUT_PATH], stdout\u001b[39m=\u001b[39msubprocess\u001b[39m.\u001b[39mPIPE)\n\u001b[1;32m---> 15\u001b[0m subprocess\u001b[39m.\u001b[39;49mrun([\u001b[39m\"\u001b[39;49m\u001b[39mpython\u001b[39;49m\u001b[39m\"\u001b[39;49m, AUTO_TICKETS_PATH], stdout\u001b[39m=\u001b[39;49msubprocess\u001b[39m.\u001b[39;49mPIPE)\n\u001b[0;32m     17\u001b[0m \u001b[39m# %%\u001b[39;00m\n\u001b[0;32m     18\u001b[0m os\u001b[39m.\u001b[39mremove(OUTPUT_PATH \u001b[39m+\u001b[39m \u001b[39m\"\u001b[39m\u001b[39mtemp.csv\u001b[39m\u001b[39m\"\u001b[39m)\n",
      "File \u001b[1;32mc:\\Users\\shahmir.tariq\\AppData\\Local\\Programs\\Python\\Python311\\Lib\\subprocess.py:550\u001b[0m, in \u001b[0;36mrun\u001b[1;34m(input, capture_output, timeout, check, *popenargs, **kwargs)\u001b[0m\n\u001b[0;32m    548\u001b[0m \u001b[39mwith\u001b[39;00m Popen(\u001b[39m*\u001b[39mpopenargs, \u001b[39m*\u001b[39m\u001b[39m*\u001b[39mkwargs) \u001b[39mas\u001b[39;00m process:\n\u001b[0;32m    549\u001b[0m     \u001b[39mtry\u001b[39;00m:\n\u001b[1;32m--> 550\u001b[0m         stdout, stderr \u001b[39m=\u001b[39m process\u001b[39m.\u001b[39;49mcommunicate(\u001b[39minput\u001b[39;49m, timeout\u001b[39m=\u001b[39;49mtimeout)\n\u001b[0;32m    551\u001b[0m     \u001b[39mexcept\u001b[39;00m TimeoutExpired \u001b[39mas\u001b[39;00m exc:\n\u001b[0;32m    552\u001b[0m         process\u001b[39m.\u001b[39mkill()\n",
      "File \u001b[1;32mc:\\Users\\shahmir.tariq\\AppData\\Local\\Programs\\Python\\Python311\\Lib\\subprocess.py:1194\u001b[0m, in \u001b[0;36mPopen.communicate\u001b[1;34m(self, input, timeout)\u001b[0m\n\u001b[0;32m   1192\u001b[0m     \u001b[39mself\u001b[39m\u001b[39m.\u001b[39m_stdin_write(\u001b[39minput\u001b[39m)\n\u001b[0;32m   1193\u001b[0m \u001b[39melif\u001b[39;00m \u001b[39mself\u001b[39m\u001b[39m.\u001b[39mstdout:\n\u001b[1;32m-> 1194\u001b[0m     stdout \u001b[39m=\u001b[39m \u001b[39mself\u001b[39;49m\u001b[39m.\u001b[39;49mstdout\u001b[39m.\u001b[39;49mread()\n\u001b[0;32m   1195\u001b[0m     \u001b[39mself\u001b[39m\u001b[39m.\u001b[39mstdout\u001b[39m.\u001b[39mclose()\n\u001b[0;32m   1196\u001b[0m \u001b[39melif\u001b[39;00m \u001b[39mself\u001b[39m\u001b[39m.\u001b[39mstderr:\n",
      "\u001b[1;31mKeyboardInterrupt\u001b[0m: "
     ]
    }
   ],
   "source": [
    "# %%\n",
    "import os\n",
    "import subprocess\n",
    "\n",
    "\n",
    "tempdf = pd.DataFrame()\n",
    "tempdf[\"manifest_num\"] = df[\"manifest_num\"].drop_duplicates().dropna()\n",
    "tempdf.to_csv(OUTPUT_PATH + \"temp.csv\", index=False)\n",
    "\n",
    "# %% [markdown]\n",
    "# Run the auto pulling scripts to get the Pull Sheet Data and the Closing Tickets.\n",
    "\n",
    "# %%\n",
    "subprocess.run([\"python\", AUTO_PULL_PATH, OUTPUT_PATH], stdout=subprocess.PIPE)\n",
    "subprocess.run([\"python\", AUTO_TICKETS_PATH], stdout=subprocess.PIPE)\n",
    "\n",
    "# %%\n",
    "os.remove(OUTPUT_PATH + \"temp.csv\")"
   ]
  },
  {
   "cell_type": "code",
   "execution_count": 25,
   "metadata": {},
   "outputs": [],
   "source": [
    "def get_leg(list_stops, delim):\n",
    "    list_legs = []\n",
    "    for i in range(len(list_stops)-1):\n",
    "        list_legs.append(list_stops[i] + delim + list_stops[i+1])\n",
    "    return list_legs"
   ]
  },
  {
   "cell_type": "code",
   "execution_count": 26,
   "metadata": {},
   "outputs": [],
   "source": [
    "def revise_from_to(lane, zip_lane, from_to, from_to_zip, load):\n",
    "    err = []\n",
    "    revised = [from_to]\n",
    "    revised_zips = [from_to_zip]\n",
    "    if from_to not in lane:\n",
    "        origin, destination = from_to.split(\" | \")\n",
    "        stops = lane.split(\" | \")\n",
    "        zips = zip_lane.split(\";\")\n",
    "        try:\n",
    "            origin_index = stops.index(origin)\n",
    "            destination_index = origin_index + stops[origin_index:].index(destination) + 1\n",
    "            revised_stops = stops[origin_index:destination_index]\n",
    "            revised_zips_list = zips[origin_index:destination_index]\n",
    "            revised = get_leg(revised_stops, \" | \")\n",
    "            revised_zips = get_leg(revised_zips_list, \";\")\n",
    "        except ValueError:\n",
    "            err.append(load)\n",
    "    return revised, revised_zips, err\n",
    "\n",
    "err_df = pd.DataFrame()\n",
    "df['revised_from_to'], df['revised_zips'], err_df['Load'] = zip(*df.apply(lambda x: revise_from_to(\n",
    "    x['lane'], x['zips'], x['from_to'], x['from_to_zip'], x['Primary Reference']), axis=1))"
   ]
  },
  {
   "cell_type": "code",
   "execution_count": 27,
   "metadata": {},
   "outputs": [],
   "source": [
    "df = df.explode(['revised_from_to', 'revised_zips'])"
   ]
  },
  {
   "cell_type": "code",
   "execution_count": 28,
   "metadata": {},
   "outputs": [],
   "source": [
    "df['count_leg'] = df.groupby([\"Primary Reference\", \"revised_from_to\"]).transform('size')"
   ]
  },
  {
   "cell_type": "code",
   "execution_count": 29,
   "metadata": {},
   "outputs": [
    {
     "data": {
      "text/plain": [
       "13269    1.0\n",
       "Name: count_leg, dtype: float64"
      ]
     },
     "execution_count": 29,
     "metadata": {},
     "output_type": "execute_result"
    }
   ],
   "source": [
    "df.loc[(df['Primary Reference']==\"LD27907 (Load ID)\"), \"count_leg\"]"
   ]
  },
  {
   "cell_type": "code",
   "execution_count": 30,
   "metadata": {},
   "outputs": [
    {
     "name": "stdout",
     "output_type": "stream",
     "text": [
      "           Zip  Distance\n",
      "0  91752;85043       323\n",
      "1  85043;85043         0\n",
      "2  85043;91752       324\n",
      "3  85043;27263      2102\n",
      "4  27263;85043      2119\n"
     ]
    }
   ],
   "source": [
    "distance_table = pd.read_csv(\"C:/OneDrive - Metropolitan Warehouse/Vendor Control/Data Files/POM Level/Helpers/ZipDistances.csv\", dtype={'Zip_Code': str})\n",
    "print(distance_table.head())"
   ]
  },
  {
   "cell_type": "code",
   "execution_count": 31,
   "metadata": {},
   "outputs": [],
   "source": [
    "failed_dist = pd.DataFrame()\n",
    "failed_dist['dist'] = df.loc[~df['revised_zips'].isin(distance_table['Zip']), 'revised_zips']\n",
    "failed_dist = failed_dist.drop_duplicates().dropna()"
   ]
  },
  {
   "cell_type": "code",
   "execution_count": 32,
   "metadata": {},
   "outputs": [],
   "source": [
    "# split column into multiple columns by delimiter\n",
    "import os\n",
    "import subprocess\n",
    "\n",
    "\n",
    "if len(failed_dist.index) > 0:\n",
    "    failed_dist[['zip1', 'zip2']] = failed_dist['dist'].str.split(';', n=1, expand=True).dropna(how='any')\n",
    "    failed_dist.drop(columns=['dist'], inplace=True)\n",
    "    failed_dist.to_csv(OUTPUT_PATH+'temp_dist.csv', index=False)\n",
    "    subprocess.Popen([\"python\", AUTO_DIST_PATH]).wait()\n",
    "    os.remove(OUTPUT_PATH + \"temp_dist.csv\")"
   ]
  },
  {
   "cell_type": "code",
   "execution_count": 33,
   "metadata": {},
   "outputs": [],
   "source": [
    "def get_distance(zips):\n",
    "    try:\n",
    "        # both Zip and leg should be strings\n",
    "        dist = distance_table.loc[distance_table['Zip'] == zips, 'Distance'].iloc[0]\n",
    "        failed_dist = None\n",
    "    except:\n",
    "        dist = 0\n",
    "        failed_dist = zips\n",
    "    return dist, failed_dist\n",
    "\n",
    "exfailed_dist = pd.DataFrame()\n",
    "df[\"zip_distance\"], exfailed_dist['exdist'] = zip(*df['revised_zips'].apply(get_distance))"
   ]
  },
  {
   "cell_type": "code",
   "execution_count": 34,
   "metadata": {},
   "outputs": [],
   "source": [
    "# calculate adjusted distance for each row\n",
    "df['Adjusted Distance'] = df['zip_distance'] * df['count_leg']\n",
    "\n",
    "# drop duplicates\n",
    "df.drop_duplicates(['Primary Reference', 'revised_from_to'], inplace=True)\n",
    "\n",
    "# group by Primary Reference and transform the sum of adjusted distance\n",
    "df['Load Total Distance'] = df.groupby(['Primary Reference'])['Adjusted Distance'].transform('sum')\n",
    "\n",
    "# reset index\n",
    "df.reset_index(drop=True, inplace=True)"
   ]
  },
  {
   "cell_type": "code",
   "execution_count": 35,
   "metadata": {},
   "outputs": [
    {
     "data": {
      "text/plain": [
       "Index(['Primary Reference', 'manifest_num', 'Target Ship (Late)',\n",
       "       'Arrival Date', 'Target Delivery (Late)', 'Actual Delivery',\n",
       "       'Origin Code', 'Origin Zip', 'Dest Code', 'Dest Zip', 'Carrier',\n",
       "       'Carrier Total', 'Invoice Date', 'Invoice Number', 'Invoice Charge',\n",
       "       'Invoice Total Line Haul', 'Invoice Total Fuel', 'from_to',\n",
       "       'from_to_zip', 'Code;Zip', 'OriginCode;Zip', 'lane', 'zips', 'size',\n",
       "       'Vendor Pickup?', 'revised_from_to', 'revised_zips', 'count_leg',\n",
       "       'zip_distance', 'Adjusted Distance', 'Load Total Distance'],\n",
       "      dtype='object')"
      ]
     },
     "execution_count": 35,
     "metadata": {},
     "output_type": "execute_result"
    }
   ],
   "source": [
    "df.columns"
   ]
  },
  {
   "cell_type": "code",
   "execution_count": null,
   "metadata": {},
   "outputs": [],
   "source": [
    "df.drop(columns=['Legs per Load', 'Legs per Load_x', 'Legs per Load_y'], inplace=True)"
   ]
  },
  {
   "cell_type": "code",
   "execution_count": 36,
   "metadata": {},
   "outputs": [],
   "source": [
    "# calculate number of legs per load\n",
    "legs_per_load = df.groupby(['Primary Reference']).revised_from_to.nunique().reset_index(name='Legs per Load')\n",
    "\n",
    "# merge manifests_per_leg with fact_table\n",
    "df = pd.merge(df, legs_per_load, on=['Primary Reference'])\n",
    "\n",
    "# allocate leg cost to manifests\n",
    "df['Leg Cost'] = np.where(df['Load Total Distance'] <= 0,\n",
    "                          df['Carrier Total'].astype('Float64') / df['Legs per Load'].clip(lower=1),\n",
    "                          df['Carrier Total'].astype('Float64') * df['Adjusted Distance'] / df['Load Total Distance'])"
   ]
  },
  {
   "cell_type": "code",
   "execution_count": 37,
   "metadata": {},
   "outputs": [
    {
     "name": "stdout",
     "output_type": "stream",
     "text": [
      "\n",
      "Getting the POMs...\n"
     ]
    }
   ],
   "source": [
    "from glob import glob\n",
    "\n",
    "\n",
    "print(\"\\nGetting the POMs...\")\n",
    "all_files = glob(os.path.join(ORDERS_PATH, \"*.csv\"))\n",
    "df_poms = pd.concat((pd.read_csv(f, encoding='ISO-8859-1', engine='c', dtype={'Manifest No': object,\n",
    "                                                                              'OrderNo': object},\n",
    "                                usecols=['Manifest No', 'OrderNo', 'Weight', 'Cu_Ft_']\n",
    "                                ) for f in all_files), ignore_index=True).drop_duplicates().round(2)\n",
    "df_pomsg = df_poms.groupby(['Manifest No', 'OrderNo'], as_index=False).agg({'Cu_Ft_': 'sum', 'Weight': 'sum'})\n",
    "df_pomsg['Count'] = df_poms.groupby(['Manifest No', 'OrderNo'], as_index=False).size().loc[:, 'size']\n",
    "df_poms = df_pomsg.set_index('OrderNo')"
   ]
  },
  {
   "cell_type": "code",
   "execution_count": 38,
   "metadata": {},
   "outputs": [
    {
     "name": "stdout",
     "output_type": "stream",
     "text": [
      "\n",
      "Getting Closing Tickets...\n"
     ]
    }
   ],
   "source": [
    "print(\"\\nGetting Closing Tickets...\")\n",
    "kpi_files = glob(os.path.join(TICKETS_PATH, \"*.csv\"))\n",
    "df_kpi = pd.concat((pd.read_csv(f, encoding='ISO-8859-1', engine='c', dtype={'Order #': object},\n",
    "                                usecols=['Order #', 'Actual Delivery Date', 'Client Name', 'Amount']\n",
    "                                ) for f in kpi_files), ignore_index=True).drop_duplicates().round(2)\n",
    "df_kpi = df_kpi.groupby('Order #').agg({'Actual Delivery Date': 'first', 'Client Name': 'first', 'Amount': 'sum'})"
   ]
  },
  {
   "cell_type": "code",
   "execution_count": 39,
   "metadata": {},
   "outputs": [
    {
     "name": "stdout",
     "output_type": "stream",
     "text": [
      "\n",
      "Merging df_poms and closing_tickets...\n",
      "(1188649, 8)\n"
     ]
    }
   ],
   "source": [
    "print(\"\\nMerging df_poms and closing_tickets...\")\n",
    "df_poms = df_poms.join(df_kpi)\n",
    "df_poms.index.names = ['Order #']\n",
    "df_poms.reset_index(inplace=True)\n",
    "print(df_poms.shape)"
   ]
  },
  {
   "cell_type": "code",
   "execution_count": 58,
   "metadata": {},
   "outputs": [
    {
     "data": {
      "text/plain": [
       "Index(['manifest_num', 'Primary Reference', 'Target Ship (Late)',\n",
       "       'Arrival Date', 'Target Delivery (Late)', 'Actual Delivery',\n",
       "       'Origin Code', 'Origin Zip', 'Dest Code', 'Dest Zip', 'Carrier',\n",
       "       'Carrier Total', 'Invoice Date', 'Invoice Number', 'Invoice Charge',\n",
       "       'Invoice Total Line Haul', 'Invoice Total Fuel', 'from_to',\n",
       "       'from_to_zip', 'Code;Zip', 'OriginCode;Zip', 'lane', 'zips', 'size',\n",
       "       'Vendor Pickup?', 'revised_from_to', 'revised_zips', 'count_leg',\n",
       "       'zip_distance', 'Adjusted Distance', 'Load Total Distance',\n",
       "       'Legs per Load', 'Leg Cost'],\n",
       "      dtype='object')"
      ]
     },
     "execution_count": 58,
     "metadata": {},
     "output_type": "execute_result"
    }
   ],
   "source": [
    "df.columns"
   ]
  },
  {
   "cell_type": "code",
   "execution_count": 60,
   "metadata": {},
   "outputs": [],
   "source": [
    "df_poms.reset_index(inplace=True, drop=False)\n",
    "df.reset_index(inplace=True, drop=False)"
   ]
  },
  {
   "cell_type": "code",
   "execution_count": 61,
   "metadata": {},
   "outputs": [
    {
     "name": "stdout",
     "output_type": "stream",
     "text": [
      "\n",
      "Merging fact_table and df_poms...\n",
      "(110788, 41)\n"
     ]
    }
   ],
   "source": [
    "print(\"\\nMerging fact_table and df_poms...\")\n",
    "df_poms['Manifest No'] = df_poms['Manifest No'].fillna(0).astype(int)\n",
    "df_poms.set_index('Manifest No', inplace=True)\n",
    "df['manifest_num'].fillna(0, inplace=True)\n",
    "df.set_index('manifest_num', inplace=True)\n",
    "fact_table = df.join(df_poms)\n",
    "fact_table.index.names = ['manifest_num']\n",
    "fact_table.reset_index(inplace=True)\n",
    "print(fact_table.shape)"
   ]
  },
  {
   "cell_type": "code",
   "execution_count": 64,
   "metadata": {},
   "outputs": [],
   "source": [
    "fact_table['revised_from_to'].fillna('', inplace=True)"
   ]
  },
  {
   "cell_type": "code",
   "execution_count": 65,
   "metadata": {},
   "outputs": [],
   "source": [
    "from datetime import datetime\n",
    "\n",
    "\n",
    "fact_table['Order Delivery Date'] = (pd.TimedeltaIndex(fact_table['Actual Delivery Date'\n",
    "                                            ], unit='d') + datetime(1899, 12, 30)).strftime('%Y-%m-%d')\n",
    "fact_table.drop(columns=['Actual Delivery Date'], inplace=True)"
   ]
  },
  {
   "cell_type": "code",
   "execution_count": 66,
   "metadata": {},
   "outputs": [],
   "source": [
    "fact_table['Manifest Cubes'] = fact_table.groupby(['Primary Reference', 'revised_from_to', 'manifest_num'])['Cu_Ft_'].transform('sum')"
   ]
  },
  {
   "cell_type": "code",
   "execution_count": 67,
   "metadata": {},
   "outputs": [],
   "source": [
    "fact_table['Leg Cubes'] = fact_table.groupby(['Primary Reference', 'revised_from_to'])['Cu_Ft_'].transform('sum')"
   ]
  },
  {
   "cell_type": "code",
   "execution_count": null,
   "metadata": {},
   "outputs": [],
   "source": [
    "fact_table[fact_table['Primary Reference']==\"LD27922 (Load ID)\"]"
   ]
  },
  {
   "cell_type": "code",
   "execution_count": 44,
   "metadata": {},
   "outputs": [
    {
     "data": {
      "text/plain": [
       "Index(['manifest_num', 'Primary Reference', 'Target Ship (Late)',\n",
       "       'Arrival Date', 'Target Delivery (Late)', 'Actual Delivery',\n",
       "       'Origin Code', 'Origin Zip', 'Dest Code', 'Dest Zip', 'Carrier',\n",
       "       'Carrier Total', 'Invoice Date', 'Invoice Number', 'Invoice Charge',\n",
       "       'Invoice Total Line Haul', 'Invoice Total Fuel', 'from_to',\n",
       "       'from_to_zip', 'Code;Zip', 'OriginCode;Zip', 'lane', 'zips', 'size',\n",
       "       'Vendor Pickup?', 'revised_from_to', 'revised_zips', 'count_leg',\n",
       "       'zip_distance', 'Adjusted Distance', 'Load Total Distance',\n",
       "       'Legs per Load', 'Leg Cost', 'Order #', 'Cu_Ft_', 'Weight', 'Count',\n",
       "       'Client Name', 'Amount', 'Order Delivery Date', 'Manifest Cubes',\n",
       "       'Leg Cubes'],\n",
       "      dtype='object')"
      ]
     },
     "execution_count": 44,
     "metadata": {},
     "output_type": "execute_result"
    }
   ],
   "source": [
    "fact_table.columns"
   ]
  },
  {
   "cell_type": "code",
   "execution_count": 64,
   "metadata": {},
   "outputs": [],
   "source": [
    "fact_table.drop(columns=['Orders Per Manifest'], inplace=True)"
   ]
  },
  {
   "cell_type": "code",
   "execution_count": 69,
   "metadata": {},
   "outputs": [],
   "source": [
    "# calculate number of manifests per leg\n",
    "manifests_per_leg = fact_table.groupby(['Primary Reference', 'revised_from_to']).manifest_num.nunique().reset_index(name='Manifests Per Leg')\n",
    "\n",
    "# merge manifests_per_leg with fact_table\n",
    "fact_table = pd.merge(fact_table, manifests_per_leg, on=['Primary Reference', 'revised_from_to'])\n",
    "\n",
    "# allocate leg cost to manifests\n",
    "fact_table['Manifest Cost'] = np.where(fact_table['Leg Cubes'] <= 0,\n",
    "                                       fact_table['Leg Cost'].astype('Float64') / fact_table['Manifests Per Leg'].clip(lower=1),\n",
    "                                       fact_table['Leg Cost'].astype('Float64') * fact_table['Manifest Cubes'] / fact_table['Leg Cubes'])"
   ]
  },
  {
   "cell_type": "code",
   "execution_count": 71,
   "metadata": {},
   "outputs": [],
   "source": [
    "# calculate number of manifests per leg\n",
    "orders_per_manifest = fact_table.groupby(['Primary Reference', 'revised_from_to', 'manifest_num'])['Order #'].nunique().reset_index(name='Orders Per Manifest')\n",
    "\n",
    "# merge orders_per_leg with fact_table\n",
    "fact_table = pd.merge(fact_table, orders_per_manifest, on=['Primary Reference', 'revised_from_to', 'manifest_num'])\n",
    "\n",
    "# allocate leg cost to manifests\n",
    "fact_table['POM Cost'] = np.where(fact_table['Manifest Cubes'] <= 0,\n",
    "                                  fact_table['Manifest Cost'].astype('Float64') / fact_table['Orders Per Manifest'].clip(lower=1),\n",
    "                                  fact_table['Manifest Cost'].astype('Float64') * fact_table['Cu_Ft_'] / fact_table['Manifest Cubes'])"
   ]
  },
  {
   "cell_type": "code",
   "execution_count": 73,
   "metadata": {},
   "outputs": [],
   "source": [
    "fact_table = fact_table.rename(columns={'revised_from_to': 'Leg', 'revised_zips': 'Leg Zips',\n",
    "                              'count_leg': 'Leg Instance per Load', 'Cu_Ft_': 'Order Cubes',\n",
    "                              'zip_distance': 'Actual Distance'})"
   ]
  },
  {
   "cell_type": "code",
   "execution_count": 74,
   "metadata": {},
   "outputs": [],
   "source": [
    "fact_table = fact_table.drop(columns=[\"Code;Zip\", \"OriginCode;Zip\"])"
   ]
  },
  {
   "cell_type": "code",
   "execution_count": 76,
   "metadata": {},
   "outputs": [],
   "source": [
    "fact_table['Carrier Total'] = fact_table['Carrier Total'].astype('Float64')"
   ]
  },
  {
   "cell_type": "code",
   "execution_count": 80,
   "metadata": {},
   "outputs": [
    {
     "data": {
      "text/plain": [
       "11626473.864999859"
      ]
     },
     "execution_count": 80,
     "metadata": {},
     "output_type": "execute_result"
    }
   ],
   "source": [
    "fact_table['POM Cost'].sum()"
   ]
  },
  {
   "cell_type": "code",
   "execution_count": 81,
   "metadata": {},
   "outputs": [
    {
     "data": {
      "text/plain": [
       "manifest_num                        int32\n",
       "index                               int64\n",
       "Primary Reference                  object\n",
       "Target Ship (Late)         datetime64[ns]\n",
       "Arrival Date                       object\n",
       "Target Delivery (Late)     datetime64[ns]\n",
       "Actual Delivery                    object\n",
       "Origin Code                        object\n",
       "Origin Zip                         object\n",
       "Dest Code                          object\n",
       "Dest Zip                           object\n",
       "Carrier                            object\n",
       "Carrier Total                     Float64\n",
       "Invoice Date               datetime64[ns]\n",
       "Invoice Number                     object\n",
       "Invoice Charge                    float64\n",
       "Invoice Total Line Haul           float64\n",
       "Invoice Total Fuel                float64\n",
       "from_to                            object\n",
       "from_to_zip                        object\n",
       "lane                               object\n",
       "zips                               object\n",
       "size                               object\n",
       "Vendor Pickup?                     object\n",
       "Leg                                object\n",
       "Leg Zips                           object\n",
       "Leg Instance per Load             float64\n",
       "Actual Distance                     int64\n",
       "Adjusted Distance                 float64\n",
       "Load Total Distance               float64\n",
       "Legs per Load                       int64\n",
       "Leg Cost                           object\n",
       "Order #                            object\n",
       "Order Cubes                       float64\n",
       "Weight                            float64\n",
       "Count                             float64\n",
       "Client Name                        object\n",
       "Amount                            float64\n",
       "Order Delivery Date                object\n",
       "Manifest Cubes                    float64\n",
       "Leg Cubes                         float64\n",
       "Manifests Per Leg                   int64\n",
       "Manifest Cost                      object\n",
       "Orders Per Manifest                 int64\n",
       "POM Cost                           object\n",
       "dtype: object"
      ]
     },
     "execution_count": 81,
     "metadata": {},
     "output_type": "execute_result"
    }
   ],
   "source": [
    "fact_table.dtypes"
   ]
  },
  {
   "cell_type": "code",
   "execution_count": 82,
   "metadata": {},
   "outputs": [
    {
     "name": "stderr",
     "output_type": "stream",
     "text": [
      "C:\\Users\\shahmir.tariq\\AppData\\Local\\Temp\\ipykernel_1944\\1516417079.py:3: DtypeWarning: Columns (32,33,34,35,36,40,41,42,43) have mixed types. Specify dtype option on import or set low_memory=False.\n",
      "  old_data = pd.read_csv(OUTPUT_PATH + \"Product.csv\")\n"
     ]
    }
   ],
   "source": [
    "# %%\n",
    "if os.path.exists(OUTPUT_PATH + \"Product.csv\"):\n",
    "    old_data = pd.read_csv(OUTPUT_PATH + \"Product.csv\")\n",
    "    references = set(fact_table[\"Primary Reference\"])\n",
    "    old_data = old_data[~old_data[\"Primary Reference\"].isin(references)]\n",
    "    final = pd.concat([old_data, fact_table])\n",
    "else:\n",
    "    final = fact_table\n",
    "\n",
    "# %%\n",
    "final.to_csv(OUTPUT_PATH + \"Product.csv\", index=False)"
   ]
  },
  {
   "cell_type": "code",
   "execution_count": 2,
   "metadata": {},
   "outputs": [
    {
     "name": "stderr",
     "output_type": "stream",
     "text": [
      "C:\\Users\\shahmir.tariq\\AppData\\Local\\Temp\\ipykernel_7748\\2746880416.py:3: DtypeWarning: Columns (28,29,30,31,32,36,37,38,39) have mixed types. Specify dtype option on import or set low_memory=False.\n",
      "  df = pd.read_csv('../TMSProduct/Product.csv')\n"
     ]
    }
   ],
   "source": [
    "import pandas as pd\n",
    "\n",
    "df = pd.read_csv('../TMSProduct/Product.csv')"
   ]
  },
  {
   "cell_type": "code",
   "execution_count": 3,
   "metadata": {},
   "outputs": [
    {
     "data": {
      "text/plain": [
       "Index(['manifest_num', 'Carrier Total', 'Carrier', 'lane', 'Primary Reference',\n",
       "       'Leg', 'Leg Zips', 'Actual Distance', 'Leg Cost',\n",
       "       'Target Delivery (Late)', 'from_to', 'Order #', 'Order Cubes', 'Weight',\n",
       "       'Count', 'Order Delivery Date', 'Client Name', 'Amount', 'Origin Code',\n",
       "       'Dest Code', 'Origin Zip', 'Dest Zip', 'Manifest Cubes', 'Leg Cubes',\n",
       "       'Manifests Per Leg', 'Manifest Cost', 'Orders Per Manifest', 'POM Cost',\n",
       "       'Target Ship (Late)', 'Arrival Date', 'Actual Delivery', 'Invoice Date',\n",
       "       'Invoice Number', 'Invoice Charge', 'Invoice Total Line Haul',\n",
       "       'Invoice Total Fuel', 'from_to_zip', 'zips', 'size', 'Vendor Pickup?'],\n",
       "      dtype='object')"
      ]
     },
     "execution_count": 3,
     "metadata": {},
     "output_type": "execute_result"
    }
   ],
   "source": [
    "df.columns"
   ]
  },
  {
   "cell_type": "code",
   "execution_count": 4,
   "metadata": {},
   "outputs": [],
   "source": [
    "df2 = pd.read_csv('../Others/ProductBeforeAppendingOldData.csv')"
   ]
  },
  {
   "cell_type": "code",
   "execution_count": 5,
   "metadata": {},
   "outputs": [
    {
     "data": {
      "text/plain": [
       "Index(['manifest_num', 'Primary Reference', 'Target Ship (Late)',\n",
       "       'Arrival Date', 'Target Delivery (Late)', 'Actual Delivery',\n",
       "       'Origin Code', 'Origin Zip', 'Dest Code', 'Dest Zip', 'Carrier',\n",
       "       'Carrier Total', 'Invoice Date', 'Invoice Number', 'Invoice Charge',\n",
       "       'Invoice Total Line Haul', 'Invoice Total Fuel', 'from_to',\n",
       "       'from_to_zip', 'Code;Zip', 'OriginCode;Zip', 'lane', 'zips', 'size',\n",
       "       'Vendor Pickup?', 'Leg', 'Leg Zips', 'Leg Instance per Load',\n",
       "       'Actual Distance', 'Adjusted Distance', 'Load Total Distance',\n",
       "       'Legs per Load', 'Leg Cost', 'Order #', 'Order Cubes', 'Weight',\n",
       "       'Count', 'Client Name', 'Amount', 'Order Delivery Date',\n",
       "       'Manifest Cubes', 'Leg Cubes', 'Manifests Per Leg', 'Manifest Cost',\n",
       "       'Orders Per Manifest', 'POM Cost'],\n",
       "      dtype='object')"
      ]
     },
     "execution_count": 5,
     "metadata": {},
     "output_type": "execute_result"
    }
   ],
   "source": [
    "df2.columns"
   ]
  },
  {
   "cell_type": "code",
   "execution_count": 6,
   "metadata": {},
   "outputs": [
    {
     "data": {
      "text/plain": [
       "{'Adjusted Distance',\n",
       " 'Code;Zip',\n",
       " 'Leg Instance per Load',\n",
       " 'Legs per Load',\n",
       " 'Load Total Distance',\n",
       " 'OriginCode;Zip'}"
      ]
     },
     "execution_count": 6,
     "metadata": {},
     "output_type": "execute_result"
    }
   ],
   "source": [
    "set(df2.columns).difference(df.columns)"
   ]
  },
  {
   "cell_type": "code",
   "execution_count": 15,
   "metadata": {},
   "outputs": [
    {
     "data": {
      "text/plain": [
       "True"
      ]
     },
     "execution_count": 15,
     "metadata": {},
     "output_type": "execute_result"
    }
   ],
   "source": [
    "df['Primary Reference'].dtype == df2['Primary Reference'].dtype"
   ]
  },
  {
   "cell_type": "code",
   "execution_count": 14,
   "metadata": {},
   "outputs": [],
   "source": [
    "df2['Primary Reference'] = df2['Primary Reference'].astype('str')"
   ]
  },
  {
   "cell_type": "code",
   "execution_count": null,
   "metadata": {},
   "outputs": [],
   "source": [
    "# %%\n",
    "\n",
    "# calculate adjusted distance for each row\n",
    "df['Adjusted Distance'] = df['zip_distance'] * df['count_leg']\n",
    "\n",
    "# group by Primary Reference and transform the sum of adjusted distance\n",
    "df['Load Total Distance'] = df.groupby(['Primary Reference'])['Adjusted Distance'].transform('sum')\n",
    "\n",
    "# reset index\n",
    "df.reset_index(drop=True, inplace=True)\n",
    "\n",
    "# %%\n",
    "# calculate number of legs per load\n",
    "legs_per_load = df.groupby(['Primary Reference']).revised_from_to.nunique().reset_index(name='Legs per Load')\n",
    "\n",
    "# merge manifests_per_leg with fact_table\n",
    "df = pd.merge(df, legs_per_load, on=['Primary Reference'])\n",
    "\n",
    "# allocate leg cost to manifests\n",
    "df['Leg Cost'] = np.where(df['Load Total Distance'] <= 0,\n",
    "                          df['Carrier Total'] / df['Legs per Load'].clip(lower=1),\n",
    "                          df['Carrier Total'] * df['Adjusted Distance'] / df['Load Total Distance'])\n"
   ]
  },
  {
   "cell_type": "code",
   "execution_count": 69,
   "metadata": {},
   "outputs": [],
   "source": [
    "import pandas as pd\n",
    "import re\n",
    "import numpy as np\n",
    "\n",
    "df = pd.DataFrame({'A': ['X', 'X', 'X', 'Y'], 'B': [24, 24, 32, 10],\n",
    "                   'C': ['A | B', 'A | B', 'B | C', 'C'], 'D': [1, 1, 2, 1], 'E': [100, 100, 100, 150],\n",
    "                   'M': [1, 2, 3, 4]})"
   ]
  },
  {
   "cell_type": "code",
   "execution_count": 70,
   "metadata": {},
   "outputs": [],
   "source": [
    "df['Adjusted Distance'] = df['B'] * df['D']"
   ]
  },
  {
   "cell_type": "code",
   "execution_count": 71,
   "metadata": {},
   "outputs": [],
   "source": [
    "df.drop_duplicates(subset=['A', 'M', 'C'], inplace=True)"
   ]
  },
  {
   "cell_type": "code",
   "execution_count": 72,
   "metadata": {},
   "outputs": [],
   "source": [
    "load_distance = df.drop_duplicates(['A', 'C']).groupby(['A'])['Adjusted Distance'].sum().reset_index(name='Load Total Distance')"
   ]
  },
  {
   "cell_type": "code",
   "execution_count": 73,
   "metadata": {},
   "outputs": [],
   "source": [
    "df = pd.merge(df, load_distance, on=['A'])"
   ]
  },
  {
   "cell_type": "code",
   "execution_count": 74,
   "metadata": {},
   "outputs": [],
   "source": [
    "df.reset_index(drop=True, inplace=True)"
   ]
  },
  {
   "cell_type": "code",
   "execution_count": 75,
   "metadata": {},
   "outputs": [
    {
     "data": {
      "text/html": [
       "<div>\n",
       "<style scoped>\n",
       "    .dataframe tbody tr th:only-of-type {\n",
       "        vertical-align: middle;\n",
       "    }\n",
       "\n",
       "    .dataframe tbody tr th {\n",
       "        vertical-align: top;\n",
       "    }\n",
       "\n",
       "    .dataframe thead th {\n",
       "        text-align: right;\n",
       "    }\n",
       "</style>\n",
       "<table border=\"1\" class=\"dataframe\">\n",
       "  <thead>\n",
       "    <tr style=\"text-align: right;\">\n",
       "      <th></th>\n",
       "      <th>A</th>\n",
       "      <th>B</th>\n",
       "      <th>C</th>\n",
       "      <th>D</th>\n",
       "      <th>E</th>\n",
       "      <th>M</th>\n",
       "      <th>Adjusted Distance</th>\n",
       "      <th>Load Total Distance</th>\n",
       "    </tr>\n",
       "  </thead>\n",
       "  <tbody>\n",
       "    <tr>\n",
       "      <th>0</th>\n",
       "      <td>X</td>\n",
       "      <td>24</td>\n",
       "      <td>A | B</td>\n",
       "      <td>1</td>\n",
       "      <td>100</td>\n",
       "      <td>1</td>\n",
       "      <td>24</td>\n",
       "      <td>88</td>\n",
       "    </tr>\n",
       "    <tr>\n",
       "      <th>1</th>\n",
       "      <td>X</td>\n",
       "      <td>24</td>\n",
       "      <td>A | B</td>\n",
       "      <td>1</td>\n",
       "      <td>100</td>\n",
       "      <td>2</td>\n",
       "      <td>24</td>\n",
       "      <td>88</td>\n",
       "    </tr>\n",
       "    <tr>\n",
       "      <th>2</th>\n",
       "      <td>X</td>\n",
       "      <td>32</td>\n",
       "      <td>B | C</td>\n",
       "      <td>2</td>\n",
       "      <td>100</td>\n",
       "      <td>3</td>\n",
       "      <td>64</td>\n",
       "      <td>88</td>\n",
       "    </tr>\n",
       "    <tr>\n",
       "      <th>3</th>\n",
       "      <td>Y</td>\n",
       "      <td>10</td>\n",
       "      <td>C</td>\n",
       "      <td>1</td>\n",
       "      <td>150</td>\n",
       "      <td>4</td>\n",
       "      <td>10</td>\n",
       "      <td>10</td>\n",
       "    </tr>\n",
       "  </tbody>\n",
       "</table>\n",
       "</div>"
      ],
      "text/plain": [
       "   A   B      C  D    E  M  Adjusted Distance  Load Total Distance\n",
       "0  X  24  A | B  1  100  1                 24                   88\n",
       "1  X  24  A | B  1  100  2                 24                   88\n",
       "2  X  32  B | C  2  100  3                 64                   88\n",
       "3  Y  10      C  1  150  4                 10                   10"
      ]
     },
     "execution_count": 75,
     "metadata": {},
     "output_type": "execute_result"
    }
   ],
   "source": [
    "df"
   ]
  },
  {
   "cell_type": "code",
   "execution_count": 52,
   "metadata": {},
   "outputs": [],
   "source": [
    "legs_per_load = df.groupby(['A']).C.nunique().reset_index(name='Legs per Load')"
   ]
  },
  {
   "cell_type": "code",
   "execution_count": 53,
   "metadata": {},
   "outputs": [],
   "source": [
    "df = pd.merge(df, legs_per_load, on=['A'])"
   ]
  },
  {
   "cell_type": "code",
   "execution_count": 54,
   "metadata": {},
   "outputs": [],
   "source": [
    "df['Leg Cost'] = np.where(df['Load Total Distance'] <= 0,\n",
    "                          df['E'] / df['Legs per Load'].clip(lower=1),\n",
    "                          df['E'] * df['Adjusted Distance'] / df['Load Total Distance'])"
   ]
  },
  {
   "cell_type": "code",
   "execution_count": 55,
   "metadata": {},
   "outputs": [
    {
     "data": {
      "text/html": [
       "<div>\n",
       "<style scoped>\n",
       "    .dataframe tbody tr th:only-of-type {\n",
       "        vertical-align: middle;\n",
       "    }\n",
       "\n",
       "    .dataframe tbody tr th {\n",
       "        vertical-align: top;\n",
       "    }\n",
       "\n",
       "    .dataframe thead th {\n",
       "        text-align: right;\n",
       "    }\n",
       "</style>\n",
       "<table border=\"1\" class=\"dataframe\">\n",
       "  <thead>\n",
       "    <tr style=\"text-align: right;\">\n",
       "      <th></th>\n",
       "      <th>A</th>\n",
       "      <th>B</th>\n",
       "      <th>C</th>\n",
       "      <th>D</th>\n",
       "      <th>E</th>\n",
       "      <th>Adjusted Distance</th>\n",
       "      <th>Load Total Distance</th>\n",
       "      <th>Legs per Load</th>\n",
       "      <th>Leg Cost</th>\n",
       "    </tr>\n",
       "  </thead>\n",
       "  <tbody>\n",
       "    <tr>\n",
       "      <th>0</th>\n",
       "      <td>X</td>\n",
       "      <td>24</td>\n",
       "      <td>A | B</td>\n",
       "      <td>1</td>\n",
       "      <td>100</td>\n",
       "      <td>24</td>\n",
       "      <td>88</td>\n",
       "      <td>2</td>\n",
       "      <td>27.272727</td>\n",
       "    </tr>\n",
       "    <tr>\n",
       "      <th>1</th>\n",
       "      <td>X</td>\n",
       "      <td>32</td>\n",
       "      <td>B | C</td>\n",
       "      <td>2</td>\n",
       "      <td>100</td>\n",
       "      <td>64</td>\n",
       "      <td>88</td>\n",
       "      <td>2</td>\n",
       "      <td>72.727273</td>\n",
       "    </tr>\n",
       "    <tr>\n",
       "      <th>2</th>\n",
       "      <td>Y</td>\n",
       "      <td>10</td>\n",
       "      <td>C</td>\n",
       "      <td>1</td>\n",
       "      <td>150</td>\n",
       "      <td>10</td>\n",
       "      <td>10</td>\n",
       "      <td>1</td>\n",
       "      <td>150.000000</td>\n",
       "    </tr>\n",
       "  </tbody>\n",
       "</table>\n",
       "</div>"
      ],
      "text/plain": [
       "   A   B      C  D    E  Adjusted Distance  Load Total Distance  \\\n",
       "0  X  24  A | B  1  100                 24                   88   \n",
       "1  X  32  B | C  2  100                 64                   88   \n",
       "2  Y  10      C  1  150                 10                   10   \n",
       "\n",
       "   Legs per Load    Leg Cost  \n",
       "0              2   27.272727  \n",
       "1              2   72.727273  \n",
       "2              1  150.000000  "
      ]
     },
     "execution_count": 55,
     "metadata": {},
     "output_type": "execute_result"
    }
   ],
   "source": [
    "df"
   ]
  },
  {
   "cell_type": "code",
   "execution_count": 5,
   "metadata": {},
   "outputs": [],
   "source": [
    "escaped_search_strings = df['C'].apply(re.escape)\n",
    "search_pattern = '|'.join(escaped_search_strings)"
   ]
  },
  {
   "cell_type": "code",
   "execution_count": 6,
   "metadata": {},
   "outputs": [
    {
     "name": "stdout",
     "output_type": "stream",
     "text": [
      "   A                  B      C  Count\n",
      "0  X  A | B | C | A | B  A | B      3\n",
      "1  X  A | B | C | A | B  B | C      3\n",
      "2  Y              C | B      C      1\n"
     ]
    }
   ],
   "source": [
    "df['Count'] = df['B'].str.count(search_pattern)\n",
    "\n",
    "print(df)"
   ]
  },
  {
   "cell_type": "code",
   "execution_count": 19,
   "metadata": {},
   "outputs": [],
   "source": [
    "import pandas as pd\n",
    "import re\n",
    "\n",
    "# Create a sample dataframe\n",
    "df = pd.DataFrame({'Key': ['A', 'A', 'B', 'B'],\n",
    "                   'String': ['A | B | C | A | B', 'A | B | C | A | B', 'C | D | E', 'C | D | E'],\n",
    "                   'SearchString': ['A | B', 'A | B', 'C | F', '']})\n",
    "\n"
   ]
  },
  {
   "cell_type": "code",
   "execution_count": 20,
   "metadata": {},
   "outputs": [
    {
     "name": "stdout",
     "output_type": "stream",
     "text": [
      "Key  SearchString\n",
      "A    A | B           2\n",
      "B                    0\n",
      "     C | F           0\n",
      "dtype: int64\n"
     ]
    }
   ],
   "source": [
    "# Function to count occurrences of search string\n",
    "def count_occurrences(group):\n",
    "    search_string = group['SearchString'].iloc[0]\n",
    "    if not search_string:\n",
    "        return 0\n",
    "    search_string_escaped = re.escape(search_string)\n",
    "    return group['String'].str.count(search_string_escaped).max()\n",
    "\n",
    "# Apply function to each group\n",
    "result = df.groupby(['Key', 'SearchString']).apply(count_occurrences)\n",
    "\n",
    "print(result)\n"
   ]
  },
  {
   "cell_type": "code",
   "execution_count": 22,
   "metadata": {},
   "outputs": [],
   "source": [
    "result.name = 'Count'"
   ]
  },
  {
   "cell_type": "code",
   "execution_count": 23,
   "metadata": {},
   "outputs": [],
   "source": [
    "merged_df = df.merge(result, on=['Key', 'SearchString'], how='left')"
   ]
  },
  {
   "cell_type": "code",
   "execution_count": 24,
   "metadata": {},
   "outputs": [
    {
     "data": {
      "text/html": [
       "<div>\n",
       "<style scoped>\n",
       "    .dataframe tbody tr th:only-of-type {\n",
       "        vertical-align: middle;\n",
       "    }\n",
       "\n",
       "    .dataframe tbody tr th {\n",
       "        vertical-align: top;\n",
       "    }\n",
       "\n",
       "    .dataframe thead th {\n",
       "        text-align: right;\n",
       "    }\n",
       "</style>\n",
       "<table border=\"1\" class=\"dataframe\">\n",
       "  <thead>\n",
       "    <tr style=\"text-align: right;\">\n",
       "      <th></th>\n",
       "      <th>Key</th>\n",
       "      <th>String</th>\n",
       "      <th>SearchString</th>\n",
       "      <th>Count</th>\n",
       "    </tr>\n",
       "  </thead>\n",
       "  <tbody>\n",
       "    <tr>\n",
       "      <th>0</th>\n",
       "      <td>A</td>\n",
       "      <td>A | B | C | A | B</td>\n",
       "      <td>A | B</td>\n",
       "      <td>2</td>\n",
       "    </tr>\n",
       "    <tr>\n",
       "      <th>1</th>\n",
       "      <td>A</td>\n",
       "      <td>A | B | C | A | B</td>\n",
       "      <td>A | B</td>\n",
       "      <td>2</td>\n",
       "    </tr>\n",
       "    <tr>\n",
       "      <th>2</th>\n",
       "      <td>B</td>\n",
       "      <td>C | D | E</td>\n",
       "      <td>C | F</td>\n",
       "      <td>0</td>\n",
       "    </tr>\n",
       "    <tr>\n",
       "      <th>3</th>\n",
       "      <td>B</td>\n",
       "      <td>C | D | E</td>\n",
       "      <td></td>\n",
       "      <td>0</td>\n",
       "    </tr>\n",
       "  </tbody>\n",
       "</table>\n",
       "</div>"
      ],
      "text/plain": [
       "  Key             String SearchString  Count\n",
       "0   A  A | B | C | A | B        A | B      2\n",
       "1   A  A | B | C | A | B        A | B      2\n",
       "2   B          C | D | E        C | F      0\n",
       "3   B          C | D | E                   0"
      ]
     },
     "execution_count": 24,
     "metadata": {},
     "output_type": "execute_result"
    }
   ],
   "source": [
    "merged_df"
   ]
  },
  {
   "cell_type": "code",
   "execution_count": 37,
   "metadata": {},
   "outputs": [],
   "source": [
    "failed_dist = pd.DataFrame({'zip': ['xyz;abc;234', 'xbc']})"
   ]
  },
  {
   "cell_type": "code",
   "execution_count": 41,
   "metadata": {},
   "outputs": [],
   "source": [
    "failed_dist[['zip1', 'zip2']] = failed_dist['zip'].str.extract(r'([^;]*);(.*)', expand=True)\n"
   ]
  },
  {
   "cell_type": "code",
   "execution_count": 42,
   "metadata": {},
   "outputs": [
    {
     "data": {
      "text/html": [
       "<div>\n",
       "<style scoped>\n",
       "    .dataframe tbody tr th:only-of-type {\n",
       "        vertical-align: middle;\n",
       "    }\n",
       "\n",
       "    .dataframe tbody tr th {\n",
       "        vertical-align: top;\n",
       "    }\n",
       "\n",
       "    .dataframe thead th {\n",
       "        text-align: right;\n",
       "    }\n",
       "</style>\n",
       "<table border=\"1\" class=\"dataframe\">\n",
       "  <thead>\n",
       "    <tr style=\"text-align: right;\">\n",
       "      <th></th>\n",
       "      <th>zip</th>\n",
       "      <th>zip1</th>\n",
       "      <th>zip2</th>\n",
       "    </tr>\n",
       "  </thead>\n",
       "  <tbody>\n",
       "    <tr>\n",
       "      <th>0</th>\n",
       "      <td>xyz;abc;234</td>\n",
       "      <td>xyz</td>\n",
       "      <td>abc;234</td>\n",
       "    </tr>\n",
       "    <tr>\n",
       "      <th>1</th>\n",
       "      <td>xbc</td>\n",
       "      <td>NaN</td>\n",
       "      <td>NaN</td>\n",
       "    </tr>\n",
       "  </tbody>\n",
       "</table>\n",
       "</div>"
      ],
      "text/plain": [
       "           zip zip1     zip2\n",
       "0  xyz;abc;234  xyz  abc;234\n",
       "1          xbc  NaN      NaN"
      ]
     },
     "execution_count": 42,
     "metadata": {},
     "output_type": "execute_result"
    }
   ],
   "source": [
    "failed_dist"
   ]
  },
  {
   "cell_type": "code",
   "execution_count": 43,
   "metadata": {},
   "outputs": [
    {
     "data": {
      "text/html": [
       "<div>\n",
       "<style scoped>\n",
       "    .dataframe tbody tr th:only-of-type {\n",
       "        vertical-align: middle;\n",
       "    }\n",
       "\n",
       "    .dataframe tbody tr th {\n",
       "        vertical-align: top;\n",
       "    }\n",
       "\n",
       "    .dataframe thead th {\n",
       "        text-align: right;\n",
       "    }\n",
       "</style>\n",
       "<table border=\"1\" class=\"dataframe\">\n",
       "  <thead>\n",
       "    <tr style=\"text-align: right;\">\n",
       "      <th></th>\n",
       "      <th>zip</th>\n",
       "      <th>zip1</th>\n",
       "      <th>zip2</th>\n",
       "    </tr>\n",
       "  </thead>\n",
       "  <tbody>\n",
       "    <tr>\n",
       "      <th>0</th>\n",
       "      <td>xyz;abc;234</td>\n",
       "      <td>xyz</td>\n",
       "      <td>abc;234</td>\n",
       "    </tr>\n",
       "  </tbody>\n",
       "</table>\n",
       "</div>"
      ],
      "text/plain": [
       "           zip zip1     zip2\n",
       "0  xyz;abc;234  xyz  abc;234"
      ]
     },
     "execution_count": 43,
     "metadata": {},
     "output_type": "execute_result"
    }
   ],
   "source": [
    "failed_dist.dropna(how='any')"
   ]
  },
  {
   "cell_type": "code",
   "execution_count": 1,
   "metadata": {},
   "outputs": [],
   "source": [
    "origin, destination = \"X | Y\".split(\" | \")"
   ]
  },
  {
   "cell_type": "code",
   "execution_count": 15,
   "metadata": {},
   "outputs": [],
   "source": [
    "from itertools import product\n",
    "\n",
    "\n",
    "def find_start_stop(start, stop):\n",
    "        cross_join = product(start, stop) # cross join the two lists\n",
    "        path = 99 # default value of path from one index to another (not miles)\n",
    "        result = () # default value\n",
    "\n",
    "        for join in cross_join:\n",
    "            diff = join[1] - join[0]\n",
    "            # if the current different between two indices is less than path, update path\n",
    "            if 0 < diff < path:\n",
    "                path = diff\n",
    "                result = join\n",
    "\n",
    "        return result[0], result[1]"
   ]
  },
  {
   "cell_type": "code",
   "execution_count": 21,
   "metadata": {},
   "outputs": [],
   "source": [
    "def get_leg(list_stops, delim):\n",
    "    list_legs = []\n",
    "    if len(list_stops) == 1:\n",
    "        list_stops.append(list_stops[0])\n",
    "    for i in range(len(list_stops)-1):\n",
    "        list_legs.append(list_stops[i] + delim + list_stops[i+1])\n",
    "    return list_legs"
   ]
  },
  {
   "cell_type": "code",
   "execution_count": 35,
   "metadata": {},
   "outputs": [
    {
     "name": "stdout",
     "output_type": "stream",
     "text": [
      "['']\n"
     ]
    }
   ],
   "source": [
    "stops = ['x', 'y', 'z', 'y', 'x']\n",
    "from_to = ''\n",
    "revised = [from_to]\n",
    "try:\n",
    "    origin, destination = from_to.split(\" | \")\n",
    "    origin_indices = [i for i, x in enumerate(stops) if x == origin]\n",
    "    dest_indices = [i for i, x in enumerate(stops) if x == destination]\n",
    "    start, stop = find_start_stop(origin_indices, dest_indices)\n",
    "    revised_stops = stops[start:stop+1]\n",
    "    revised = get_leg(revised_stops, \" | \")\n",
    "except (IndexError, ValueError):\n",
    "    pass\n",
    "print(revised)\n",
    "#destination_index = origin_index + stops[origin_index:].index(destination) + 1\n",
    "#revised_stops = stops[origin_index:destination_index]"
   ]
  },
  {
   "cell_type": "code",
   "execution_count": 5,
   "metadata": {},
   "outputs": [],
   "source": [
    "import pandas as pd\n",
    "\n",
    "df1 = pd.DataFrame(\n",
    "    {\n",
    "        \"A\": [1, 1, 2, 3],\n",
    "        \"B\": [0, 1, 3, 5]\n",
    "    }\n",
    ")\n",
    "\n",
    "df2 = pd.DataFrame(\n",
    "    {\n",
    "        \"A\": [1, 0, 3, 5],\n",
    "        \"B\": [1, 2, 4, 8]\n",
    "    }\n",
    ")\n",
    "dff = pd.concat(\n",
    "    [ df1.loc[~df1[\"A\"].isin(df2[\"A\"])], df2 ],\n",
    "    ignore_index=True\n",
    ")"
   ]
  },
  {
   "cell_type": "code",
   "execution_count": 6,
   "metadata": {},
   "outputs": [
    {
     "data": {
      "text/html": [
       "<div>\n",
       "<style scoped>\n",
       "    .dataframe tbody tr th:only-of-type {\n",
       "        vertical-align: middle;\n",
       "    }\n",
       "\n",
       "    .dataframe tbody tr th {\n",
       "        vertical-align: top;\n",
       "    }\n",
       "\n",
       "    .dataframe thead th {\n",
       "        text-align: right;\n",
       "    }\n",
       "</style>\n",
       "<table border=\"1\" class=\"dataframe\">\n",
       "  <thead>\n",
       "    <tr style=\"text-align: right;\">\n",
       "      <th></th>\n",
       "      <th>A</th>\n",
       "      <th>B</th>\n",
       "    </tr>\n",
       "  </thead>\n",
       "  <tbody>\n",
       "    <tr>\n",
       "      <th>0</th>\n",
       "      <td>2</td>\n",
       "      <td>3</td>\n",
       "    </tr>\n",
       "    <tr>\n",
       "      <th>1</th>\n",
       "      <td>1</td>\n",
       "      <td>1</td>\n",
       "    </tr>\n",
       "    <tr>\n",
       "      <th>2</th>\n",
       "      <td>0</td>\n",
       "      <td>2</td>\n",
       "    </tr>\n",
       "    <tr>\n",
       "      <th>3</th>\n",
       "      <td>3</td>\n",
       "      <td>4</td>\n",
       "    </tr>\n",
       "    <tr>\n",
       "      <th>4</th>\n",
       "      <td>5</td>\n",
       "      <td>8</td>\n",
       "    </tr>\n",
       "  </tbody>\n",
       "</table>\n",
       "</div>"
      ],
      "text/plain": [
       "   A  B\n",
       "0  2  3\n",
       "1  1  1\n",
       "2  0  2\n",
       "3  3  4\n",
       "4  5  8"
      ]
     },
     "execution_count": 6,
     "metadata": {},
     "output_type": "execute_result"
    }
   ],
   "source": [
    "dff"
   ]
  },
  {
   "cell_type": "code",
   "execution_count": 1,
   "metadata": {},
   "outputs": [],
   "source": [
    "from glob import glob\n",
    "import os\n",
    "\n",
    "import pandas as pd"
   ]
  },
  {
   "cell_type": "code",
   "execution_count": 3,
   "metadata": {},
   "outputs": [],
   "source": [
    "TICKETS_PATH = \"C:/OneDrive - Metropolitan Warehouse/Vendor Control/Data Files/KPI Reports - 2/POMS in KPI Reports/\"\n",
    "OTHER_TICKETS = \"C:/OneDrive - Metropolitan Warehouse/Vendor Control/Data Files/KPI Reports - 2/linehaul_poms/\""
   ]
  },
  {
   "cell_type": "code",
   "execution_count": 4,
   "metadata": {},
   "outputs": [
    {
     "name": "stdout",
     "output_type": "stream",
     "text": [
      "\n",
      "Getting Closing Tickets...\n"
     ]
    }
   ],
   "source": [
    "print(\"\\nGetting Closing Tickets...\")\n",
    "# get the CSVs in the main tickets folder \n",
    "tp_files = glob(os.path.join(TICKETS_PATH, \"*.csv\"))\n",
    "# create a dataframe using the CSVs\n",
    "df_tp = pd.concat(\n",
    "    (pd.read_csv(f, encoding='ISO-8859-1', engine='c', dtype={'Order #': object},\n",
    "                               usecols=[\n",
    "                                   'Order #',\n",
    "                                   'Order Status',\n",
    "                                   'Actual Delivery Date',\n",
    "                                   'First Offered Date',\n",
    "                                   'Client Name',\n",
    "                                   'PickupHub',\n",
    "                                   'DeliveryHub',\n",
    "                                   'Amount',\n",
    "                                   'Approval Value'\n",
    "                                ]\n",
    "    ) for f in tp_files), ignore_index=True).round(2)\n",
    "# get the CSVs in the other tickets folder (the linehaul_poms one)\n",
    "ot_files = glob(os.path.join(OTHER_TICKETS, \"*.csv\"))\n",
    "# create a dataframe using the CSVs\n",
    "df_ot = pd.concat(\n",
    "    (pd.read_csv(f, encoding='ISO-8859-1', engine='c', dtype={'Order #': object},\n",
    "                                usecols=[\n",
    "                                   'Order #',\n",
    "                                   'Order Status',\n",
    "                                   'Actual Delivery Date',\n",
    "                                   'First Offered Date',\n",
    "                                   'Client Name',\n",
    "                                   'PickupHub',\n",
    "                                   'DeliveryHub',\n",
    "                                   'Amount',\n",
    "                                   'Approval Value'\n",
    "                                ]\n",
    "    ) for f in ot_files), ignore_index=True).round(2)\n",
    "# append the two dataframes, taking only those orders from main folder which are\n",
    "#   not appearing in the linehaul_poms one\n",
    "df_kpi = pd.concat(\n",
    "    [ df_tp.loc[~df_tp[\"Order #\"].isin(df_ot[\"Order #\"])], df_ot ],\n",
    "    ignore_index=True\n",
    ")\n",
    "# get rid of the temp dfs made\n",
    "del df_tp\n",
    "del df_ot\n",
    "# groupby Order #\n",
    "df_kpi = df_kpi.groupby('Order #').agg(\n",
    "    {\n",
    "        'Order Status': 'last',\n",
    "        'Actual Delivery Date': 'last',\n",
    "        'First Offered Date': 'last',\n",
    "        'Client Name': 'last',\n",
    "        'PickupHub': 'last',\n",
    "        'DeliveryHub': 'last',\n",
    "        'Amount': 'sum',\n",
    "        'Approval Value': 'last'\n",
    "    }\n",
    ")"
   ]
  },
  {
   "cell_type": "code",
   "execution_count": 12,
   "metadata": {},
   "outputs": [
    {
     "data": {
      "text/html": [
       "<div>\n",
       "<style scoped>\n",
       "    .dataframe tbody tr th:only-of-type {\n",
       "        vertical-align: middle;\n",
       "    }\n",
       "\n",
       "    .dataframe tbody tr th {\n",
       "        vertical-align: top;\n",
       "    }\n",
       "\n",
       "    .dataframe thead th {\n",
       "        text-align: right;\n",
       "    }\n",
       "</style>\n",
       "<table border=\"1\" class=\"dataframe\">\n",
       "  <thead>\n",
       "    <tr style=\"text-align: right;\">\n",
       "      <th></th>\n",
       "      <th>Order Status</th>\n",
       "      <th>Actual Delivery Date</th>\n",
       "      <th>First Offered Date</th>\n",
       "      <th>Client Name</th>\n",
       "      <th>PickupHub</th>\n",
       "      <th>DeliveryHub</th>\n",
       "      <th>Amount</th>\n",
       "      <th>Approval Value</th>\n",
       "    </tr>\n",
       "    <tr>\n",
       "      <th>Order #</th>\n",
       "      <th></th>\n",
       "      <th></th>\n",
       "      <th></th>\n",
       "      <th></th>\n",
       "      <th></th>\n",
       "      <th></th>\n",
       "      <th></th>\n",
       "      <th></th>\n",
       "    </tr>\n",
       "  </thead>\n",
       "  <tbody>\n",
       "  </tbody>\n",
       "</table>\n",
       "</div>"
      ],
      "text/plain": [
       "Empty DataFrame\n",
       "Columns: [Order Status, Actual Delivery Date, First Offered Date, Client Name, PickupHub, DeliveryHub, Amount, Approval Value]\n",
       "Index: []"
      ]
     },
     "execution_count": 12,
     "metadata": {},
     "output_type": "execute_result"
    }
   ],
   "source": [
    "df_kpi.loc[df_kpi.index == \"360119\"]"
   ]
  },
  {
   "cell_type": "code",
   "execution_count": null,
   "metadata": {},
   "outputs": [],
   "source": []
  }
 ],
 "metadata": {
  "kernelspec": {
   "display_name": "Python 3",
   "language": "python",
   "name": "python3"
  },
  "language_info": {
   "codemirror_mode": {
    "name": "ipython",
    "version": 3
   },
   "file_extension": ".py",
   "mimetype": "text/x-python",
   "name": "python",
   "nbconvert_exporter": "python",
   "pygments_lexer": "ipython3",
   "version": "3.11.4"
  },
  "orig_nbformat": 4
 },
 "nbformat": 4,
 "nbformat_minor": 2
}
